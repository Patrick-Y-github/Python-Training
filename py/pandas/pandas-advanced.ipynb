{
 "cells": [
  {
   "cell_type": "code",
   "execution_count": 1,
   "metadata": {},
   "outputs": [],
   "source": [
    "import pandas as pd\n",
    "import numpy as np"
   ]
  },
  {
   "cell_type": "markdown",
   "metadata": {},
   "source": [
    "[1] 有一整数列A的DataFrame，删除数值重复的行。"
   ]
  },
  {
   "cell_type": "code",
   "execution_count": 2,
   "metadata": {},
   "outputs": [
    {
     "data": {
      "text/html": [
       "<div>\n",
       "<style scoped>\n",
       "    .dataframe tbody tr th:only-of-type {\n",
       "        vertical-align: middle;\n",
       "    }\n",
       "\n",
       "    .dataframe tbody tr th {\n",
       "        vertical-align: top;\n",
       "    }\n",
       "\n",
       "    .dataframe thead th {\n",
       "        text-align: right;\n",
       "    }\n",
       "</style>\n",
       "<table border=\"1\" class=\"dataframe\">\n",
       "  <thead>\n",
       "    <tr style=\"text-align: right;\">\n",
       "      <th></th>\n",
       "      <th>A</th>\n",
       "    </tr>\n",
       "  </thead>\n",
       "  <tbody>\n",
       "    <tr>\n",
       "      <th>0</th>\n",
       "      <td>1</td>\n",
       "    </tr>\n",
       "    <tr>\n",
       "      <th>1</th>\n",
       "      <td>2</td>\n",
       "    </tr>\n",
       "    <tr>\n",
       "      <th>2</th>\n",
       "      <td>2</td>\n",
       "    </tr>\n",
       "    <tr>\n",
       "      <th>3</th>\n",
       "      <td>3</td>\n",
       "    </tr>\n",
       "    <tr>\n",
       "      <th>4</th>\n",
       "      <td>4</td>\n",
       "    </tr>\n",
       "    <tr>\n",
       "      <th>5</th>\n",
       "      <td>5</td>\n",
       "    </tr>\n",
       "    <tr>\n",
       "      <th>6</th>\n",
       "      <td>5</td>\n",
       "    </tr>\n",
       "    <tr>\n",
       "      <th>7</th>\n",
       "      <td>5</td>\n",
       "    </tr>\n",
       "    <tr>\n",
       "      <th>8</th>\n",
       "      <td>6</td>\n",
       "    </tr>\n",
       "    <tr>\n",
       "      <th>9</th>\n",
       "      <td>7</td>\n",
       "    </tr>\n",
       "    <tr>\n",
       "      <th>10</th>\n",
       "      <td>7</td>\n",
       "    </tr>\n",
       "  </tbody>\n",
       "</table>\n",
       "</div>"
      ],
      "text/plain": [
       "    A\n",
       "0   1\n",
       "1   2\n",
       "2   2\n",
       "3   3\n",
       "4   4\n",
       "5   5\n",
       "6   5\n",
       "7   5\n",
       "8   6\n",
       "9   7\n",
       "10  7"
      ]
     },
     "execution_count": 2,
     "metadata": {},
     "output_type": "execute_result"
    }
   ],
   "source": [
    "df = pd.DataFrame({'A': [1, 2, 2, 3, 4, 5, 5, 5, 6, 7, 7]})\n",
    "df"
   ]
  },
  {
   "cell_type": "code",
   "execution_count": 5,
   "metadata": {},
   "outputs": [
    {
     "data": {
      "text/html": [
       "<div>\n",
       "<style scoped>\n",
       "    .dataframe tbody tr th:only-of-type {\n",
       "        vertical-align: middle;\n",
       "    }\n",
       "\n",
       "    .dataframe tbody tr th {\n",
       "        vertical-align: top;\n",
       "    }\n",
       "\n",
       "    .dataframe thead th {\n",
       "        text-align: right;\n",
       "    }\n",
       "</style>\n",
       "<table border=\"1\" class=\"dataframe\">\n",
       "  <thead>\n",
       "    <tr style=\"text-align: right;\">\n",
       "      <th></th>\n",
       "      <th>A</th>\n",
       "    </tr>\n",
       "  </thead>\n",
       "  <tbody>\n",
       "    <tr>\n",
       "      <th>0</th>\n",
       "      <td>1</td>\n",
       "    </tr>\n",
       "    <tr>\n",
       "      <th>1</th>\n",
       "      <td>2</td>\n",
       "    </tr>\n",
       "    <tr>\n",
       "      <th>3</th>\n",
       "      <td>3</td>\n",
       "    </tr>\n",
       "    <tr>\n",
       "      <th>4</th>\n",
       "      <td>4</td>\n",
       "    </tr>\n",
       "    <tr>\n",
       "      <th>5</th>\n",
       "      <td>5</td>\n",
       "    </tr>\n",
       "    <tr>\n",
       "      <th>8</th>\n",
       "      <td>6</td>\n",
       "    </tr>\n",
       "    <tr>\n",
       "      <th>9</th>\n",
       "      <td>7</td>\n",
       "    </tr>\n",
       "  </tbody>\n",
       "</table>\n",
       "</div>"
      ],
      "text/plain": [
       "   A\n",
       "0  1\n",
       "1  2\n",
       "3  3\n",
       "4  4\n",
       "5  5\n",
       "8  6\n",
       "9  7"
      ]
     },
     "execution_count": 5,
     "metadata": {},
     "output_type": "execute_result"
    }
   ],
   "source": [
    "df1 = df.drop_duplicates(subset='A')\n",
    "df1"
   ]
  },
  {
   "cell_type": "markdown",
   "metadata": {},
   "source": [
    "[2] 一个全数值DataFrame，每个数字减去该行的平均值\n",
    "\n",
    "#关于axis的理解#\n",
    "1、pandas的axis与numpy的axis在理解上都是一样的，axis = 0代表高维在变，低维不变，即按照列操作；axis = 1代表高维不变，低维在变，即按照行操作。\n",
    "2、对于删除drop、dropna操作，理解稍微难一点，其实原理是一样的，当axis = 0时，看似按行操作，其实是按列删除值；当axis = 1时，看似按列操作，其实是按行删除值。"
   ]
  },
  {
   "cell_type": "code",
   "execution_count": 8,
   "metadata": {
    "scrolled": true
   },
   "outputs": [
    {
     "data": {
      "text/html": [
       "<div>\n",
       "<style scoped>\n",
       "    .dataframe tbody tr th:only-of-type {\n",
       "        vertical-align: middle;\n",
       "    }\n",
       "\n",
       "    .dataframe tbody tr th {\n",
       "        vertical-align: top;\n",
       "    }\n",
       "\n",
       "    .dataframe thead th {\n",
       "        text-align: right;\n",
       "    }\n",
       "</style>\n",
       "<table border=\"1\" class=\"dataframe\">\n",
       "  <thead>\n",
       "    <tr style=\"text-align: right;\">\n",
       "      <th></th>\n",
       "      <th>0</th>\n",
       "      <th>1</th>\n",
       "      <th>2</th>\n",
       "    </tr>\n",
       "  </thead>\n",
       "  <tbody>\n",
       "    <tr>\n",
       "      <th>0</th>\n",
       "      <td>0.843133</td>\n",
       "      <td>0.057569</td>\n",
       "      <td>0.900978</td>\n",
       "    </tr>\n",
       "    <tr>\n",
       "      <th>1</th>\n",
       "      <td>0.030293</td>\n",
       "      <td>0.936953</td>\n",
       "      <td>0.447294</td>\n",
       "    </tr>\n",
       "    <tr>\n",
       "      <th>2</th>\n",
       "      <td>0.876765</td>\n",
       "      <td>0.809084</td>\n",
       "      <td>0.291849</td>\n",
       "    </tr>\n",
       "    <tr>\n",
       "      <th>3</th>\n",
       "      <td>0.937832</td>\n",
       "      <td>0.426077</td>\n",
       "      <td>0.086207</td>\n",
       "    </tr>\n",
       "    <tr>\n",
       "      <th>4</th>\n",
       "      <td>0.293142</td>\n",
       "      <td>0.656893</td>\n",
       "      <td>0.028370</td>\n",
       "    </tr>\n",
       "  </tbody>\n",
       "</table>\n",
       "</div>"
      ],
      "text/plain": [
       "          0         1         2\n",
       "0  0.843133  0.057569  0.900978\n",
       "1  0.030293  0.936953  0.447294\n",
       "2  0.876765  0.809084  0.291849\n",
       "3  0.937832  0.426077  0.086207\n",
       "4  0.293142  0.656893  0.028370"
      ]
     },
     "execution_count": 8,
     "metadata": {},
     "output_type": "execute_result"
    }
   ],
   "source": [
    "df = pd.DataFrame(np.random.random(size = (5,3)))\n",
    "df"
   ]
  },
  {
   "cell_type": "code",
   "execution_count": 10,
   "metadata": {},
   "outputs": [
    {
     "data": {
      "text/html": [
       "<div>\n",
       "<style scoped>\n",
       "    .dataframe tbody tr th:only-of-type {\n",
       "        vertical-align: middle;\n",
       "    }\n",
       "\n",
       "    .dataframe tbody tr th {\n",
       "        vertical-align: top;\n",
       "    }\n",
       "\n",
       "    .dataframe thead th {\n",
       "        text-align: right;\n",
       "    }\n",
       "</style>\n",
       "<table border=\"1\" class=\"dataframe\">\n",
       "  <thead>\n",
       "    <tr style=\"text-align: right;\">\n",
       "      <th></th>\n",
       "      <th>0</th>\n",
       "      <th>1</th>\n",
       "      <th>2</th>\n",
       "    </tr>\n",
       "  </thead>\n",
       "  <tbody>\n",
       "    <tr>\n",
       "      <th>0</th>\n",
       "      <td>0.242573</td>\n",
       "      <td>-0.542991</td>\n",
       "      <td>0.300418</td>\n",
       "    </tr>\n",
       "    <tr>\n",
       "      <th>1</th>\n",
       "      <td>-0.441221</td>\n",
       "      <td>0.465440</td>\n",
       "      <td>-0.024219</td>\n",
       "    </tr>\n",
       "    <tr>\n",
       "      <th>2</th>\n",
       "      <td>0.217533</td>\n",
       "      <td>0.149851</td>\n",
       "      <td>-0.367384</td>\n",
       "    </tr>\n",
       "    <tr>\n",
       "      <th>3</th>\n",
       "      <td>0.454460</td>\n",
       "      <td>-0.057295</td>\n",
       "      <td>-0.397165</td>\n",
       "    </tr>\n",
       "    <tr>\n",
       "      <th>4</th>\n",
       "      <td>-0.032993</td>\n",
       "      <td>0.330758</td>\n",
       "      <td>-0.297765</td>\n",
       "    </tr>\n",
       "  </tbody>\n",
       "</table>\n",
       "</div>"
      ],
      "text/plain": [
       "          0         1         2\n",
       "0  0.242573 -0.542991  0.300418\n",
       "1 -0.441221  0.465440 -0.024219\n",
       "2  0.217533  0.149851 -0.367384\n",
       "3  0.454460 -0.057295 -0.397165\n",
       "4 -0.032993  0.330758 -0.297765"
      ]
     },
     "execution_count": 10,
     "metadata": {},
     "output_type": "execute_result"
    }
   ],
   "source": [
    "df1 = df.sub(df.mean(axis=1),axis=0)\n",
    "df1"
   ]
  },
  {
   "cell_type": "markdown",
   "metadata": {},
   "source": [
    "[3] 一个有5列的DataFrame，求哪一列的和最小\n",
    "\n",
    "df.sum().idxmin()\n",
    "其中，df.sum() == df.sum(axis=0)\n",
    "\n",
    "若求哪一行的和最大： df.sum(axis=1).idxmax()"
   ]
  },
  {
   "cell_type": "code",
   "execution_count": 14,
   "metadata": {},
   "outputs": [
    {
     "data": {
      "text/html": [
       "<div>\n",
       "<style scoped>\n",
       "    .dataframe tbody tr th:only-of-type {\n",
       "        vertical-align: middle;\n",
       "    }\n",
       "\n",
       "    .dataframe tbody tr th {\n",
       "        vertical-align: top;\n",
       "    }\n",
       "\n",
       "    .dataframe thead th {\n",
       "        text-align: right;\n",
       "    }\n",
       "</style>\n",
       "<table border=\"1\" class=\"dataframe\">\n",
       "  <thead>\n",
       "    <tr style=\"text-align: right;\">\n",
       "      <th></th>\n",
       "      <th>A</th>\n",
       "      <th>B</th>\n",
       "      <th>C</th>\n",
       "      <th>D</th>\n",
       "      <th>E</th>\n",
       "    </tr>\n",
       "  </thead>\n",
       "  <tbody>\n",
       "    <tr>\n",
       "      <th>0</th>\n",
       "      <td>0.916013</td>\n",
       "      <td>0.693074</td>\n",
       "      <td>0.272637</td>\n",
       "      <td>0.858432</td>\n",
       "      <td>0.226036</td>\n",
       "    </tr>\n",
       "    <tr>\n",
       "      <th>1</th>\n",
       "      <td>0.956046</td>\n",
       "      <td>0.603912</td>\n",
       "      <td>0.667273</td>\n",
       "      <td>0.696792</td>\n",
       "      <td>0.314213</td>\n",
       "    </tr>\n",
       "    <tr>\n",
       "      <th>2</th>\n",
       "      <td>0.336775</td>\n",
       "      <td>0.257539</td>\n",
       "      <td>0.841755</td>\n",
       "      <td>0.761252</td>\n",
       "      <td>0.808567</td>\n",
       "    </tr>\n",
       "    <tr>\n",
       "      <th>3</th>\n",
       "      <td>0.804221</td>\n",
       "      <td>0.122104</td>\n",
       "      <td>0.000750</td>\n",
       "      <td>0.550868</td>\n",
       "      <td>0.266940</td>\n",
       "    </tr>\n",
       "    <tr>\n",
       "      <th>4</th>\n",
       "      <td>0.575983</td>\n",
       "      <td>0.151185</td>\n",
       "      <td>0.675758</td>\n",
       "      <td>0.260711</td>\n",
       "      <td>0.907737</td>\n",
       "    </tr>\n",
       "  </tbody>\n",
       "</table>\n",
       "</div>"
      ],
      "text/plain": [
       "          A         B         C         D         E\n",
       "0  0.916013  0.693074  0.272637  0.858432  0.226036\n",
       "1  0.956046  0.603912  0.667273  0.696792  0.314213\n",
       "2  0.336775  0.257539  0.841755  0.761252  0.808567\n",
       "3  0.804221  0.122104  0.000750  0.550868  0.266940\n",
       "4  0.575983  0.151185  0.675758  0.260711  0.907737"
      ]
     },
     "execution_count": 14,
     "metadata": {},
     "output_type": "execute_result"
    }
   ],
   "source": [
    "df = pd.DataFrame(np.random.random(size=(5,5)), columns=['A','B','C','D','E'])\n",
    "df"
   ]
  },
  {
   "cell_type": "code",
   "execution_count": 23,
   "metadata": {},
   "outputs": [
    {
     "data": {
      "text/plain": [
       "3"
      ]
     },
     "execution_count": 23,
     "metadata": {},
     "output_type": "execute_result"
    }
   ],
   "source": [
    "df.sum(axis=1).idxmin()"
   ]
  },
  {
   "cell_type": "markdown",
   "metadata": {},
   "source": [
    "[4] 给定DataFrame， 求A列每个值的前三大的B的和。\n",
    "\n",
    "df.groupby('A')['B'].nlargest(3).sum(level=0)"
   ]
  },
  {
   "cell_type": "code",
   "execution_count": 26,
   "metadata": {},
   "outputs": [
    {
     "name": "stdout",
     "output_type": "stream",
     "text": [
      "    A    B\n",
      "0   a   12\n",
      "1   a  345\n",
      "2   a    3\n",
      "3   b    1\n",
      "4   b   45\n",
      "5   c   14\n",
      "6   a    4\n",
      "7   a   52\n",
      "8   b   54\n",
      "9   c   23\n",
      "10  c  235\n",
      "11  c   21\n",
      "12  b   57\n",
      "13  b    3\n",
      "14  c   87\n",
      "A\n",
      "a    409\n",
      "b    156\n",
      "c    345\n",
      "Name: B, dtype: int64\n"
     ]
    }
   ],
   "source": [
    "df = pd.DataFrame({'A': list('aaabbcaabcccbbc'), \n",
    "                   'B': [12,345,3,1,45,14,4,52,54,23,235,21,57,3,87]})\n",
    "print(df)\n",
    "\n",
    "df1 = df.groupby('A')['B'].nlargest(3).sum(level=0)\n",
    "print(df1)"
   ]
  },
  {
   "cell_type": "markdown",
   "metadata": {},
   "source": [
    "[5] 给定DataFrame，有列A,B，A的值在1-100（含），对A列每10步长，求对应的B的和\n"
   ]
  },
  {
   "cell_type": "code",
   "execution_count": 31,
   "metadata": {},
   "outputs": [
    {
     "name": "stdout",
     "output_type": "stream",
     "text": [
      "    A   B\n",
      "0   1   1\n",
      "1   2   2\n",
      "2  11  11\n",
      "3  11  11\n",
      "4  33  33\n",
      "5  34  34\n",
      "6  35  35\n",
      "7  40  40\n",
      "8  79  79\n",
      "9  99  99\n",
      "A\n",
      "(0, 10]        3\n",
      "(10, 20]      22\n",
      "(20, 30]       0\n",
      "(30, 40]     142\n",
      "(40, 50]       0\n",
      "(50, 60]       0\n",
      "(60, 70]       0\n",
      "(70, 80]      79\n",
      "(80, 90]       0\n",
      "(90, 100]     99\n",
      "Name: B, dtype: int64\n"
     ]
    }
   ],
   "source": [
    "df = pd.DataFrame({'A': [1,2,11,11,33,34,35,40,79,99], \n",
    "                   'B': [1,2,11,11,33,34,35,40,79,99]})\n",
    "print(df)\n",
    "\n",
    "df1 = df.groupby(pd.cut(df['A'],np.arange(0, 101, 10)))['B'].sum()\n",
    "print(df1)"
   ]
  },
  {
   "cell_type": "markdown",
   "metadata": {},
   "source": [
    "[6] 给定DataFrame，计算每个元素至左边最近的0（或者至开头）的距离，生成新列Y\n",
    "\n",
    "1. np.r_是按列连接两个矩阵，就是把两矩阵上下相加，要求列数相等，类似于pandas中的concat()。\n",
    "2. np.c_是按行连接两个矩阵，就是把两矩阵左右相加，要求行数相等，类似于pandas中的merge()。\n",
    "3. searchsorted（a，v）函数是判断v在a中哪两个a[n-1],a[n]之间，并返回n-1\n",
    "4. DataFrame.shift(periods=1, freq=None, axis=0)\n",
    "periods：类型为int，表示移动的幅度，可以是正数，也可以是负数，默认值是1,1就表示移动一次，注意这里移动的都是数据，而索引是不移动的，移动之后没有对应值的，就赋值为NaN。\n",
    "freq： DateOffset, timedelta, or time rule string，可选参数，默认值为None，只适用于时间序列，如果这个参数存在，那么会按照参数值移动时间索引，而数据值没有发生变化。"
   ]
  },
  {
   "cell_type": "code",
   "execution_count": 41,
   "metadata": {},
   "outputs": [
    {
     "name": "stdout",
     "output_type": "stream",
     "text": [
      "   X\n",
      "0  7\n",
      "1  2\n",
      "2  0\n",
      "3  3\n",
      "4  4\n",
      "5  2\n",
      "6  5\n",
      "7  0\n",
      "8  3\n",
      "9  4\n",
      "   X  Y1\n",
      "0  7   1\n",
      "1  2   2\n",
      "2  0   0\n",
      "3  3   1\n",
      "4  4   2\n",
      "5  2   3\n",
      "6  5   4\n",
      "7  0   0\n",
      "8  3   1\n",
      "9  4   2\n"
     ]
    }
   ],
   "source": [
    "df = pd.DataFrame({'X': [7, 2, 0, 3, 4, 2, 5, 0, 3, 4]})\n",
    "print(df)\n",
    "\n",
    "# 方法1\n",
    "izero = np.r_[-1, (df['X'] == 0).to_numpy().nonzero()[0]] #标记0的位置\n",
    "idx = np.arange(len(df))\n",
    "df['Y1'] = idx - izero[np.searchsorted(izero - 1, idx) - 1]\n",
    "print(df)"
   ]
  },
  {
   "cell_type": "code",
   "execution_count": 48,
   "metadata": {},
   "outputs": [
    {
     "name": "stdout",
     "output_type": "stream",
     "text": [
      "0    1\n",
      "1    2\n",
      "2    2\n",
      "3    3\n",
      "4    4\n",
      "5    5\n",
      "6    6\n",
      "7    6\n",
      "8    7\n",
      "9    8\n",
      "Name: X, dtype: int32\n",
      "   X  Y1  Y2\n",
      "0  7   1   1\n",
      "1  2   2   2\n",
      "2  0   0   0\n",
      "3  3   1   1\n",
      "4  4   2   2\n",
      "5  2   3   3\n",
      "6  5   4   4\n",
      "7  0   0   0\n",
      "8  3   1   1\n",
      "9  4   2   2\n"
     ]
    }
   ],
   "source": [
    "#方法2\n",
    "x = (df['X'] != 0).cumsum()\n",
    "print(x)\n",
    "y = x != x.shift()\n",
    "df['Y2'] = y.groupby((y != y.shift()).cumsum()).cumsum().apply(int)\n",
    "print(df)"
   ]
  },
  {
   "cell_type": "code",
   "execution_count": 55,
   "metadata": {},
   "outputs": [
    {
     "name": "stdout",
     "output_type": "stream",
     "text": [
      "   X  Y1  Y2  Y3\n",
      "0  7   1   1   0\n",
      "1  2   2   2   1\n",
      "2  0   0   0   0\n",
      "3  3   1   1   1\n",
      "4  4   2   2   2\n",
      "5  2   3   3   3\n",
      "6  5   4   4   4\n",
      "7  0   0   0   0\n",
      "8  3   1   1   1\n",
      "9  4   2   2   2\n",
      "2\n",
      "   X  Y1  Y2  Y3\n",
      "0  7   1   1   1\n",
      "1  2   2   2   2\n",
      "2  0   0   0   0\n",
      "3  3   1   1   1\n",
      "4  4   2   2   2\n",
      "5  2   3   3   3\n",
      "6  5   4   4   4\n",
      "7  0   0   0   0\n",
      "8  3   1   1   1\n",
      "9  4   2   2   2\n"
     ]
    }
   ],
   "source": [
    "#方法3\n",
    "df['Y3'] = df.groupby((df['X'] == 0).cumsum()).cumcount()\n",
    "print(df)\n",
    "first_zero_idx = (df['X'] == 0).idxmax()\n",
    "print(first_zero_idx)\n",
    "df['Y3'].iloc[0:first_zero_idx] += 1\n",
    "print(df)"
   ]
  },
  {
   "cell_type": "markdown",
   "metadata": {},
   "source": [
    "[7] 一个全数值的DataFrame，返回最大S值的坐标\n",
    "\n",
    "df.unstack().sort_values()[-3:].index.tolist()\n",
    "df.unstack().nlargest(3).index.tolist()"
   ]
  },
  {
   "cell_type": "code",
   "execution_count": 61,
   "metadata": {},
   "outputs": [
    {
     "name": "stdout",
     "output_type": "stream",
     "text": [
      "          0         1         2\n",
      "0  0.877091  0.691518  0.331427\n",
      "1  0.172384  0.717366  0.290083\n",
      "2  0.842095  0.295000  0.816906\n",
      "3  0.777544  0.706709  0.450025\n",
      "4  0.797083  0.799193  0.820108\n"
     ]
    },
    {
     "data": {
      "text/plain": [
       "[(0, 0), (0, 2), (2, 4)]"
      ]
     },
     "execution_count": 61,
     "metadata": {},
     "output_type": "execute_result"
    }
   ],
   "source": [
    "df = pd.DataFrame(np.random.random(size=(5, 3)))\n",
    "print(df)\n",
    "df.unstack().nlargest(3).index.tolist()"
   ]
  },
  {
   "cell_type": "markdown",
   "metadata": {},
   "source": [
    "[8] 给定DataFrame，将负值代替为同组的平均值"
   ]
  },
  {
   "cell_type": "code",
   "execution_count": 74,
   "metadata": {},
   "outputs": [
    {
     "name": "stdout",
     "output_type": "stream",
     "text": [
      "   grps  vals\n",
      "0     a   -12\n",
      "1     a   345\n",
      "2     a     3\n",
      "3     b     1\n",
      "4     b    45\n",
      "5     c    14\n",
      "6     a     4\n",
      "7     a   -52\n",
      "8     b    54\n",
      "9     c    23\n",
      "10    c  -235\n",
      "11    c    21\n",
      "12    b    57\n",
      "13    b     3\n",
      "14    c    87\n",
      "   grps    vals\n",
      "0     a  117.33\n",
      "1     a  345.00\n",
      "2     a    3.00\n",
      "3     b    1.00\n",
      "4     b   45.00\n",
      "5     c   14.00\n",
      "6     a    4.00\n",
      "7     a  117.33\n",
      "8     b   54.00\n",
      "9     c   23.00\n",
      "10    c   36.25\n",
      "11    c   21.00\n",
      "12    b   57.00\n",
      "13    b    3.00\n",
      "14    c   87.00\n"
     ]
    }
   ],
   "source": [
    "df = pd.DataFrame({'grps': list('aaabbcaabcccbbc'), \n",
    "                   'vals': [-12,345,3,1,45,14,4,-52,54,23,-235,21,57,3,87]})\n",
    "print(df)\n",
    "\n",
    "def replace_negative(group):\n",
    "    mask = group < 0\n",
    "    group[mask] = group[~mask].mean()\n",
    "    return group\n",
    "\n",
    "df['vals'] = round(df.groupby(['grps'])['vals'].transform(replace_negative),2)\n",
    "print(df)"
   ]
  },
  {
   "cell_type": "markdown",
   "metadata": {},
   "source": [
    "[9] 创建Series s，将2015所有工作日作为随机值的索引\n",
    "\n",
    "B business day frequency 工作日频率\n",
    "C custom business day frequency 自定义工作日频率\n",
    "D calendar day frequency 日历日频率\n",
    "W weekly frequency 每周频率\n",
    "M month end frequency 月末频率\n",
    "SM semi-month end frequency (15th and end of month) 半月结束频率（15日和月末）\n",
    "BM business month end frequency 营业月结束频率\n",
    "CBM custom business month end frequency 自定义营业月结束频率\n",
    "MS month start frequency 月开始频率\n",
    "SMS semi-month start frequency (1st and 15th) 半月开始频率（第1天和第15天）\n",
    "BMS business month start frequency 营业月开始频率\n",
    "CBMS custom business month start frequency 自定义营业月开始频率\n",
    "Q quarter end frequency 四分之一结束频率\n",
    "BQ business quarter end frequency 业务季度结束频率\n",
    "QS quarter start frequency 季度开始频率\n",
    "BQS business quarter start frequency 业务季开始频率\n",
    "A, Y year end frequency 年终频率\n",
    "BA, BY business year end frequency 业务年度结束频率\n",
    "AS, YS year start frequency 年开始频率\n",
    "BAS, BYS business year start frequency 营业年度开始频率\n",
    "BH business hour frequency 营业时间频率\n",
    "H hourly frequency 每小时频率\n",
    "T, min minutely frequency 分钟的频率\n",
    "S secondly frequency 秒钟的频率\n",
    "L, ms milliseconds 毫秒\n",
    "U, us microseconds 微妙\n",
    "N nanoseconds 纳秒"
   ]
  },
  {
   "cell_type": "code",
   "execution_count": 77,
   "metadata": {},
   "outputs": [
    {
     "data": {
      "text/plain": [
       "2015-01-01    0.071413\n",
       "2015-01-02    0.981466\n",
       "2015-01-05    0.352396\n",
       "2015-01-06    0.058753\n",
       "2015-01-07    0.964013\n",
       "2015-01-08    0.507681\n",
       "2015-01-09    0.717002\n",
       "2015-01-12    0.841247\n",
       "2015-01-13    0.629900\n",
       "2015-01-14    0.264473\n",
       "Freq: B, dtype: float64"
      ]
     },
     "execution_count": 77,
     "metadata": {},
     "output_type": "execute_result"
    }
   ],
   "source": [
    "dti = pd.date_range(start='2015-01-01', end='2015-12-31', freq='B') \n",
    "s = pd.Series(np.random.rand(len(dti)), index=dti)\n",
    "\n",
    "s.head(10)"
   ]
  }
 ],
 "metadata": {
  "kernelspec": {
   "display_name": "Python 3",
   "language": "python",
   "name": "python3"
  },
  "language_info": {
   "codemirror_mode": {
    "name": "ipython",
    "version": 3
   },
   "file_extension": ".py",
   "mimetype": "text/x-python",
   "name": "python",
   "nbconvert_exporter": "python",
   "pygments_lexer": "ipython3",
   "version": "3.7.6"
  }
 },
 "nbformat": 4,
 "nbformat_minor": 4
}
