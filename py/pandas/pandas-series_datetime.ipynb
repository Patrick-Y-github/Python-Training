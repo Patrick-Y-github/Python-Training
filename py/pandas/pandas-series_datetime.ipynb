{
 "cells": [
  {
   "cell_type": "code",
   "execution_count": 1,
   "metadata": {},
   "outputs": [],
   "source": [
    "import pandas as pd\n",
    "import numpy as np"
   ]
  },
  {
   "cell_type": "markdown",
   "metadata": {},
   "source": [
    "# [1] 创建Series s，将2015所有工作日作为随机值的索引\n",
    "\n",
    "B business day frequency 工作日频率\n",
    "C custom business day frequency 自定义工作日频率\n",
    "D calendar day frequency 日历日频率\n",
    "W weekly frequency 每周频率\n",
    "M month end frequency 月末频率\n",
    "SM semi-month end frequency (15th and end of month) 半月结束频率（15日和月末）\n",
    "BM business month end frequency 营业月结束频率\n",
    "CBM custom business month end frequency 自定义营业月结束频率\n",
    "MS month start frequency 月开始频率\n",
    "SMS semi-month start frequency (1st and 15th) 半月开始频率（第1天和第15天）\n",
    "BMS business month start frequency 营业月开始频率\n",
    "CBMS custom business month start frequency 自定义营业月开始频率\n",
    "Q quarter end frequency 四分之一结束频率\n",
    "BQ business quarter end frequency 业务季度结束频率\n",
    "QS quarter start frequency 季度开始频率\n",
    "BQS business quarter start frequency 业务季开始频率\n",
    "A, Y year end frequency 年终频率\n",
    "BA, BY business year end frequency 业务年度结束频率\n",
    "AS, YS year start frequency 年开始频率\n",
    "BAS, BYS business year start frequency 营业年度开始频率\n",
    "BH business hour frequency 营业时间频率\n",
    "H hourly frequency 每小时频率\n",
    "T, min minutely frequency 分钟的频率\n",
    "S secondly frequency 秒钟的频率\n",
    "L, ms milliseconds 毫秒\n",
    "U, us microseconds 微妙\n",
    "N nanoseconds 纳秒"
   ]
  },
  {
   "cell_type": "code",
   "execution_count": 2,
   "metadata": {},
   "outputs": [
    {
     "data": {
      "text/plain": [
       "2015-01-01    0.729894\n",
       "2015-01-02    0.854739\n",
       "2015-01-05    0.923253\n",
       "2015-01-06    0.616312\n",
       "2015-01-07    0.387791\n",
       "2015-01-08    0.257742\n",
       "2015-01-09    0.745491\n",
       "2015-01-12    0.938516\n",
       "2015-01-13    0.318901\n",
       "2015-01-14    0.789743\n",
       "Freq: B, dtype: float64"
      ]
     },
     "execution_count": 2,
     "metadata": {},
     "output_type": "execute_result"
    }
   ],
   "source": [
    "dti = pd.date_range(start='2015-01-01', end='2015-12-31', freq='B') \n",
    "s = pd.Series(np.random.rand(len(dti)), index=dti)\n",
    "\n",
    "s.head(10)"
   ]
  },
  {
   "cell_type": "markdown",
   "metadata": {},
   "source": [
    "## [10] 所有礼拜三的值求和\n",
    "\n",
    "星期一 == 0， 星期日 == 6"
   ]
  },
  {
   "cell_type": "code",
   "execution_count": 3,
   "metadata": {},
   "outputs": [
    {
     "data": {
      "text/plain": [
       "28.840313751640316"
      ]
     },
     "execution_count": 3,
     "metadata": {},
     "output_type": "execute_result"
    }
   ],
   "source": [
    "s[s.index.weekday == 2].sum()"
   ]
  },
  {
   "cell_type": "markdown",
   "metadata": {},
   "source": [
    "### [11] 求每个自然月的平均数"
   ]
  },
  {
   "cell_type": "code",
   "execution_count": 4,
   "metadata": {},
   "outputs": [
    {
     "data": {
      "text/plain": [
       "2015-01-31    0.647632\n",
       "2015-02-28    0.472652\n",
       "2015-03-31    0.511014\n",
       "2015-04-30    0.550248\n",
       "2015-05-31    0.561172\n",
       "2015-06-30    0.360649\n",
       "2015-07-31    0.604265\n",
       "2015-08-31    0.622633\n",
       "2015-09-30    0.555800\n",
       "2015-10-31    0.423488\n",
       "2015-11-30    0.546715\n",
       "2015-12-31    0.479548\n",
       "Freq: M, dtype: float64"
      ]
     },
     "execution_count": 4,
     "metadata": {},
     "output_type": "execute_result"
    }
   ],
   "source": [
    "s.resample('M').mean()"
   ]
  },
  {
   "cell_type": "markdown",
   "metadata": {},
   "source": [
    "#### [12] 每连续4个月为一组，求最大值所在的日期"
   ]
  },
  {
   "cell_type": "code",
   "execution_count": 5,
   "metadata": {},
   "outputs": [
    {
     "data": {
      "text/plain": [
       "2015-01-31   2015-01-21\n",
       "2015-05-31   2015-04-16\n",
       "2015-09-30   2015-07-29\n",
       "2016-01-31   2015-11-13\n",
       "Freq: 4M, dtype: datetime64[ns]"
      ]
     },
     "execution_count": 5,
     "metadata": {},
     "output_type": "execute_result"
    }
   ],
   "source": [
    "s.groupby(pd.Grouper(freq = '4M')).idxmax()"
   ]
  },
  {
   "cell_type": "markdown",
   "metadata": {},
   "source": [
    "##### [13] 创建2015-2016每月第三个星期四的序列"
   ]
  },
  {
   "cell_type": "code",
   "execution_count": 6,
   "metadata": {},
   "outputs": [
    {
     "data": {
      "text/plain": [
       "DatetimeIndex(['2015-01-15', '2015-02-19', '2015-03-19', '2015-04-16',\n",
       "               '2015-05-21', '2015-06-18', '2015-07-16', '2015-08-20',\n",
       "               '2015-09-17', '2015-10-15', '2015-11-19', '2015-12-17',\n",
       "               '2016-01-21', '2016-02-18', '2016-03-17', '2016-04-21',\n",
       "               '2016-05-19', '2016-06-16', '2016-07-21', '2016-08-18',\n",
       "               '2016-09-15', '2016-10-20', '2016-11-17', '2016-12-15'],\n",
       "              dtype='datetime64[ns]', freq='WOM-3THU')"
      ]
     },
     "execution_count": 6,
     "metadata": {},
     "output_type": "execute_result"
    }
   ],
   "source": [
    "pd.date_range(start='2015-01-01', end='2016-12-31', freq='WOM-3THU')"
   ]
  },
  {
   "cell_type": "code",
   "execution_count": null,
   "metadata": {},
   "outputs": [],
   "source": []
  }
 ],
 "metadata": {
  "kernelspec": {
   "display_name": "Python 3",
   "language": "python",
   "name": "python3"
  },
  "language_info": {
   "codemirror_mode": {
    "name": "ipython",
    "version": 3
   },
   "file_extension": ".py",
   "mimetype": "text/x-python",
   "name": "python",
   "nbconvert_exporter": "python",
   "pygments_lexer": "ipython3",
   "version": "3.7.6"
  }
 },
 "nbformat": 4,
 "nbformat_minor": 4
}
